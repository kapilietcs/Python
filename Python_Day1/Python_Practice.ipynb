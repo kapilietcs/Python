{
 "cells": [
  {
   "cell_type": "markdown",
   "metadata": {},
   "source": [
    "Starting with Python"
   ]
  },
  {
   "cell_type": "code",
   "execution_count": 52,
   "metadata": {},
   "outputs": [
    {
     "name": "stdout",
     "output_type": "stream",
     "text": [
      "Python contains greater than 5 characters\n",
      "Machine contains greater than 5 characters\n",
      "Science contains greater than 5 characters\n"
     ]
    }
   ],
   "source": [
    "words = [\"Python\", \"AI\", \"Machine\", \"Science\", \"Wow\"]\n",
    "for word in words:\n",
    "    if (len(word)>5):\n",
    "        print(f\"{word} contains greater than 5 characters\")"
   ]
  },
  {
   "cell_type": "code",
   "execution_count": 51,
   "metadata": {},
   "outputs": [
    {
     "name": "stdout",
     "output_type": "stream",
     "text": [
      "1\n",
      "2\n",
      "3\n",
      "4\n",
      "5\n",
      "6\n",
      "7\n",
      "8\n",
      "9\n",
      "10\n"
     ]
    }
   ],
   "source": [
    "i=1\n",
    "while i <11:\n",
    "    print(i)\n",
    "    i+=1"
   ]
  },
  {
   "cell_type": "code",
   "execution_count": 50,
   "metadata": {},
   "outputs": [
    {
     "name": "stdout",
     "output_type": "stream",
     "text": [
      "1 is odd\n",
      "2 is even\n",
      "3 is odd\n",
      "4 is even\n",
      "5 is odd\n",
      "6 is even\n",
      "7 is odd\n",
      "8 is even\n",
      "9 is odd\n",
      "10 is even\n",
      "11 is odd\n",
      "1 is odd\n",
      "2 is even\n",
      "13 is odd\n",
      "14 is even\n",
      "15 is odd\n"
     ]
    }
   ],
   "source": [
    "numbers=[1,2,3,4,5,6,7,8,9,10,11,1,2,13,14,15]\n",
    "for num in numbers:\n",
    "    if (num%2==0):\n",
    "        print(f\"{num} is even\")\n",
    "    else:\n",
    "        print(f\"{num} is odd\")"
   ]
  },
  {
   "cell_type": "code",
   "execution_count": 49,
   "metadata": {},
   "outputs": [
    {
     "name": "stdout",
     "output_type": "stream",
     "text": [
      "you are eligible to vote\n"
     ]
    }
   ],
   "source": [
    "age=27\n",
    "if age>=18:\n",
    "    print(\"you are eligible to vote\")\n",
    "else:\n",
    "    print(\"you are not eligible to vote\")\n"
   ]
  },
  {
   "cell_type": "code",
   "execution_count": 47,
   "metadata": {},
   "outputs": [
    {
     "name": "stdout",
     "output_type": "stream",
     "text": [
      "0 is an even number\n",
      "5 is an odd number\n",
      "10 is an even number\n",
      "15 is an odd number\n",
      "20 is an even number\n",
      "25 is an odd number\n",
      "30 is an even number\n",
      "35 is an odd number\n",
      "40 is an even number\n",
      "45 is an odd number\n"
     ]
    }
   ],
   "source": [
    "for i in range(0,50,5):\n",
    "    #print(i)\n",
    "    if (i%2==0):\n",
    "        print(f\"{i} is an even number\")\n",
    "    else:\n",
    "        print(f\"{i} is an odd number\")"
   ]
  },
  {
   "cell_type": "code",
   "execution_count": 41,
   "metadata": {},
   "outputs": [
    {
     "name": "stdout",
     "output_type": "stream",
     "text": [
      "1\n",
      "2\n",
      "3\n",
      "4\n",
      "6\n",
      "7\n",
      "8\n",
      "9\n"
     ]
    }
   ],
   "source": [
    "for i in range (1,10):\n",
    "    if (i==5):\n",
    "        continue\n",
    "    print(i)"
   ]
  },
  {
   "cell_type": "code",
   "execution_count": 38,
   "metadata": {},
   "outputs": [
    {
     "name": "stdout",
     "output_type": "stream",
     "text": [
      "printing number 10\n",
      "printing number 9\n",
      "printing number 8\n",
      "printing number 7\n",
      "printing number 6\n",
      "printing number 5\n"
     ]
    }
   ],
   "source": [
    "\n",
    "x=10\n",
    "while x > 4:\n",
    "     print(f\"printing number {x}\")\n",
    "     x -=1"
   ]
  },
  {
   "cell_type": "code",
   "execution_count": 33,
   "metadata": {},
   "outputs": [
    {
     "name": "stdout",
     "output_type": "stream",
     "text": [
      "priting fruit number 1 : apple\n",
      "priting fruit number 2 : orange\n",
      "priting fruit number 3 : banana\n",
      "priting fruit number 4 : cherry\n",
      "Done Printing fruits\n"
     ]
    }
   ],
   "source": [
    "fruits=[\"apple\",\"orange\",\"banana\",\"cherry\",\"kiwi\",\"mango\"]\n",
    "count=1\n",
    "for fruit in fruits:\n",
    "    print(f\"priting fruit number {count} : {fruit}\")\n",
    "    count +=1\n",
    "    if fruit==\"cherry\":\n",
    "            break;\n",
    "        \n",
    "\n",
    "print(\"Done Printing fruits\")\n"
   ]
  },
  {
   "cell_type": "code",
   "execution_count": 23,
   "metadata": {},
   "outputs": [
    {
     "name": "stdout",
     "output_type": "stream",
     "text": [
      "The number is zero.\n"
     ]
    }
   ],
   "source": [
    "my_number=0\n",
    "if my_number > 0:\n",
    "    print(\"The number is positive.\")\n",
    "    if my_number % 2 ==0:\n",
    "        print(\"The number is even.\")\n",
    "    else:\n",
    "        print(\"The number is odd.\")\n",
    "elif my_number == 0:\n",
    "    print(\"The number is zero.\")\n",
    "else:\n",
    "    print(\"The number is negative.\")    "
   ]
  },
  {
   "cell_type": "code",
   "execution_count": 5,
   "metadata": {},
   "outputs": [
    {
     "name": "stdout",
     "output_type": "stream",
     "text": [
      "hello kapil verma,Welcome to the year 2025\n"
     ]
    }
   ],
   "source": [
    "name=\"kapil verma\"\n",
    "year=2025\n",
    "print(f\"hello {name},Welcome to the year {year}\")"
   ]
  },
  {
   "cell_type": "code",
   "execution_count": 7,
   "metadata": {},
   "outputs": [
    {
     "name": "stdout",
     "output_type": "stream",
     "text": [
      "kapil \n",
      "verma\n",
      "kapil verma\n"
     ]
    }
   ],
   "source": [
    "name=\"kapil verma\"\n",
    "print(name[0:6])\n",
    "print(name[-5:])\n",
    "print(name[0:11])\n"
   ]
  },
  {
   "cell_type": "code",
   "execution_count": 17,
   "metadata": {},
   "outputs": [
    {
     "name": "stdout",
     "output_type": "stream",
     "text": [
      "Go and Party\n",
      "6\n",
      "Indentation is must in python\n"
     ]
    }
   ],
   "source": [
    "is_raining=10\n",
    "if is_raining > 60:\n",
    "    print (\"take an umbrella\")\n",
    "    print(2)\n",
    "elif is_raining > 20:\n",
    "    print (\"Go to your work\")\n",
    "    print(4)\n",
    "    print(5)            \n",
    "else: \n",
    "    print (\"Go and Party\")\n",
    "    print(6)\n",
    "print(\"Indentation is must in python\")\n",
    "    \n"
   ]
  },
  {
   "cell_type": "code",
   "execution_count": 11,
   "metadata": {},
   "outputs": [
    {
     "name": "stdout",
     "output_type": "stream",
     "text": [
      "ha ha ha ha ha ha ha ha ha ha \n"
     ]
    }
   ],
   "source": [
    "laugh=\"ha \"\n",
    "print(laugh * 10)"
   ]
  },
  {
   "cell_type": "code",
   "execution_count": 6,
   "metadata": {},
   "outputs": [
    {
     "name": "stdout",
     "output_type": "stream",
     "text": [
      "12 Rahul 3.56667\n"
     ]
    }
   ],
   "source": [
    "x=12\n",
    "name=\"Rahul\"\n",
    "y=3.56667\n",
    "print(x,name,y)"
   ]
  },
  {
   "cell_type": "code",
   "execution_count": 27,
   "metadata": {},
   "outputs": [
    {
     "name": "stdout",
     "output_type": "stream",
     "text": [
      "my favourite movie is Lord of the rings,my favourite number is 7 and my favorite dessert is Ice-cream\n",
      "True\n",
      "50\n",
      "Python is fun\n",
      "<class 'int'>\n",
      "<class 'str'>\n",
      "<class 'str'>\n",
      "<class 'bool'>\n",
      "<class 'int'>\n",
      "<class 'int'>\n",
      "<class 'int'>\n",
      "<class 'str'>\n"
     ]
    }
   ],
   "source": [
    "x=7\n",
    "movie=\"Lord of the rings\"\n",
    "Dessert=\"Ice-cream\"\n",
    "print(f\"my favourite movie is {movie},my favourite number is {x} and my favorite dessert is {Dessert}\")\n",
    "january_month_greater_than_30_days = 31 > 30\n",
    "print(january_month_greater_than_30_days)\n",
    "length=5\n",
    "breadth=10\n",
    "area=length*breadth\n",
    "print(area)\n",
    "String1=\"Python\"\n",
    "String2=\"is\"\n",
    "String3=\"fun\"\n",
    "Final_String=String1 + \" \"+ String2 +\" \"+String3\n",
    "print(Final_String)\n",
    "print(type(x))\n",
    "print(type(movie))\n",
    "print(type(Dessert))\n",
    "print(type(january_month_greater_than_30_days))\n",
    "print(type(length))\n",
    "print(type(breadth))\n",
    "print(type(area))\n",
    "print(type(Final_String))\n",
    "\n"
   ]
  },
  {
   "cell_type": "code",
   "execution_count": null,
   "metadata": {},
   "outputs": [
    {
     "name": "stdout",
     "output_type": "stream",
     "text": [
      "True\n"
     ]
    }
   ],
   "source": [
    "\n"
   ]
  },
  {
   "cell_type": "code",
   "execution_count": 1,
   "metadata": {},
   "outputs": [
    {
     "name": "stdout",
     "output_type": "stream",
     "text": [
      "13\n",
      "30\n",
      "3.3333333333333335\n",
      "1000\n",
      "False\n",
      "True\n",
      "13\n",
      "12\n",
      "9\n",
      "python rocks\n"
     ]
    }
   ],
   "source": [
    "a=10\n",
    "b=3\n",
    "c=5\n",
    "d=19\n",
    "print (a+b)\n",
    "print(a*b)\n",
    "print(a/b)\n",
    "print(a**b)\n",
    "print(a==b)\n",
    "print(a>b)\n",
    "c=a+b\n",
    "print(c)\n",
    "a+=2\n",
    "print(a)\n",
    "a -= 3\n",
    "print(a)\n",
    "\n",
    "text=\"pythonrocks\"\n",
    "first=text[0:6]\n",
    "second=text[-5:]\n",
    "print(first,second)\n",
    "\n"
   ]
  },
  {
   "cell_type": "code",
   "execution_count": 4,
   "metadata": {},
   "outputs": [
    {
     "name": "stdout",
     "output_type": "stream",
     "text": [
      "starting with Python\n",
      "4\n",
      "24\n"
     ]
    }
   ],
   "source": [
    "print(\"starting with Python\")\n",
    "print(2+2)\n",
    "print (4*6)"
   ]
  }
 ],
 "metadata": {
  "kernelspec": {
   "display_name": "Python 3",
   "language": "python",
   "name": "python3"
  },
  "language_info": {
   "codemirror_mode": {
    "name": "ipython",
    "version": 3
   },
   "file_extension": ".py",
   "mimetype": "text/x-python",
   "name": "python",
   "nbconvert_exporter": "python",
   "pygments_lexer": "ipython3",
   "version": "3.13.2"
  }
 },
 "nbformat": 4,
 "nbformat_minor": 2
}
