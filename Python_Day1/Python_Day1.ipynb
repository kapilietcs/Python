{
 "cells": [
  {
   "cell_type": "markdown",
   "metadata": {},
   "source": [
    "Starting with Python"
   ]
  },
  {
   "cell_type": "code",
   "execution_count": 5,
   "metadata": {},
   "outputs": [
    {
     "name": "stdout",
     "output_type": "stream",
     "text": [
      "hello kapil verma,Welcome to the year 2025\n"
     ]
    }
   ],
   "source": [
    "name=\"kapil verma\"\n",
    "year=2025\n",
    "print(f\"hello {name},Welcome to the year {year}\")"
   ]
  },
  {
   "cell_type": "code",
   "execution_count": 11,
   "metadata": {},
   "outputs": [
    {
     "name": "stdout",
     "output_type": "stream",
     "text": [
      "ha ha ha ha ha ha ha ha ha ha \n"
     ]
    }
   ],
   "source": [
    "laugh=\"ha \"\n",
    "print(laugh * 10)"
   ]
  },
  {
   "cell_type": "code",
   "execution_count": 6,
   "metadata": {},
   "outputs": [
    {
     "name": "stdout",
     "output_type": "stream",
     "text": [
      "12 Rahul 3.56667\n"
     ]
    }
   ],
   "source": [
    "x=12\n",
    "name=\"Rahul\"\n",
    "y=3.56667\n",
    "print(x,name,y)"
   ]
  },
  {
   "cell_type": "code",
   "execution_count": 27,
   "metadata": {},
   "outputs": [
    {
     "name": "stdout",
     "output_type": "stream",
     "text": [
      "my favourite movie is Lord of the rings,my favourite number is 7 and my favorite dessert is Ice-cream\n",
      "True\n",
      "50\n",
      "Python is fun\n",
      "<class 'int'>\n",
      "<class 'str'>\n",
      "<class 'str'>\n",
      "<class 'bool'>\n",
      "<class 'int'>\n",
      "<class 'int'>\n",
      "<class 'int'>\n",
      "<class 'str'>\n"
     ]
    }
   ],
   "source": [
    "x=7\n",
    "movie=\"Lord of the rings\"\n",
    "Dessert=\"Ice-cream\"\n",
    "print(f\"my favourite movie is {movie},my favourite number is {x} and my favorite dessert is {Dessert}\")\n",
    "january_month_greater_than_30_days = 31 > 30\n",
    "print(january_month_greater_than_30_days)\n",
    "length=5\n",
    "breadth=10\n",
    "area=length*breadth\n",
    "print(area)\n",
    "String1=\"Python\"\n",
    "String2=\"is\"\n",
    "String3=\"fun\"\n",
    "Final_String=String1 + \" \"+ String2 +\" \"+String3\n",
    "print(Final_String)\n",
    "print(type(x))\n",
    "print(type(movie))\n",
    "print(type(Dessert))\n",
    "print(type(january_month_greater_than_30_days))\n",
    "print(type(length))\n",
    "print(type(breadth))\n",
    "print(type(area))\n",
    "print(type(Final_String))\n",
    "\n"
   ]
  },
  {
   "cell_type": "code",
   "execution_count": null,
   "metadata": {},
   "outputs": [
    {
     "name": "stdout",
     "output_type": "stream",
     "text": [
      "True\n"
     ]
    }
   ],
   "source": [
    "\n"
   ]
  },
  {
   "cell_type": "code",
   "execution_count": 1,
   "metadata": {},
   "outputs": [
    {
     "name": "stdout",
     "output_type": "stream",
     "text": [
      "13\n",
      "30\n",
      "3.3333333333333335\n",
      "1000\n",
      "False\n",
      "True\n",
      "13\n",
      "12\n",
      "9\n",
      "python rocks\n"
     ]
    }
   ],
   "source": [
    "a=10\n",
    "b=3\n",
    "c=5\n",
    "d=19\n",
    "print (a+b)\n",
    "print(a*b)\n",
    "print(a/b)\n",
    "print(a**b)\n",
    "print(a==b)\n",
    "print(a>b)\n",
    "c=a+b\n",
    "print(c)\n",
    "a+=2\n",
    "print(a)\n",
    "a -= 3\n",
    "print(a)\n",
    "\n",
    "text=\"pythonrocks\"\n",
    "first=text[0:6]\n",
    "second=text[-5:]\n",
    "print(first,second)\n",
    "\n"
   ]
  },
  {
   "cell_type": "code",
   "execution_count": 4,
   "metadata": {},
   "outputs": [
    {
     "name": "stdout",
     "output_type": "stream",
     "text": [
      "starting with Python\n",
      "4\n",
      "24\n"
     ]
    }
   ],
   "source": [
    "print(\"starting with Python\")\n",
    "print(2+2)\n",
    "print (4*6)"
   ]
  }
 ],
 "metadata": {
  "kernelspec": {
   "display_name": "Python 3",
   "language": "python",
   "name": "python3"
  },
  "language_info": {
   "codemirror_mode": {
    "name": "ipython",
    "version": 3
   },
   "file_extension": ".py",
   "mimetype": "text/x-python",
   "name": "python",
   "nbconvert_exporter": "python",
   "pygments_lexer": "ipython3",
   "version": "3.13.2"
  }
 },
 "nbformat": 4,
 "nbformat_minor": 2
}
